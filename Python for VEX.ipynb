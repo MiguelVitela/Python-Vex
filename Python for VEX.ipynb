{
 "cells": [
  {
   "cell_type": "markdown",
   "id": "9e5e5d0a",
   "metadata": {},
   "source": [
    "# 3.1: Data structures and sequences \n",
    "\n",
    "### TUPLE\n",
    "\n",
    "Una tupla es un objeto inmutable de python, la manera mas sencilla de declarar o crear una es separando valores utilizando comas, por ejemplo:"
   ]
  },
  {
   "cell_type": "code",
   "execution_count": 1,
   "id": "faf162fd",
   "metadata": {},
   "outputs": [
    {
     "data": {
      "text/plain": [
       "(1, 2, 3)"
      ]
     },
     "execution_count": 1,
     "metadata": {},
     "output_type": "execute_result"
    }
   ],
   "source": [
    "tupla = 1,2,3\n",
    "tupla"
   ]
  },
  {
   "cell_type": "markdown",
   "id": "d1b2379a",
   "metadata": {},
   "source": [
    "Cuando estamos definiendo tuplas en expresiones mas complicadas será necesario abrir y cerrar paréntesis, como por ejemplo.. "
   ]
  },
  {
   "cell_type": "code",
   "execution_count": 2,
   "id": "38d590a6",
   "metadata": {},
   "outputs": [
    {
     "data": {
      "text/plain": [
       "((4, 5, 6), (7, 8))"
      ]
     },
     "execution_count": 2,
     "metadata": {},
     "output_type": "execute_result"
    }
   ],
   "source": [
    "nestedTuple = (4,5,6), (7,8)\n",
    "nestedTuple"
   ]
  },
  {
   "cell_type": "markdown",
   "id": "053f0cd7",
   "metadata": {},
   "source": [
    "Se puede convertir cualquier sequencia o iterador a una tupla usando la funcion \"tuple\""
   ]
  },
  {
   "cell_type": "code",
   "execution_count": 3,
   "id": "54c7583a",
   "metadata": {},
   "outputs": [
    {
     "data": {
      "text/plain": [
       "(1, 2, 3)"
      ]
     },
     "execution_count": 3,
     "metadata": {},
     "output_type": "execute_result"
    }
   ],
   "source": [
    "tuple([1,2,3])"
   ]
  },
  {
   "cell_type": "code",
   "execution_count": 4,
   "id": "7ef26b54",
   "metadata": {},
   "outputs": [
    {
     "data": {
      "text/plain": [
       "('T', 'A', 'L', 'R', 'O', 'B', 'O', 'T', 'I', 'C', 'S')"
      ]
     },
     "execution_count": 4,
     "metadata": {},
     "output_type": "execute_result"
    }
   ],
   "source": [
    "tup = tuple(\"TALROBOTICS\")\n",
    "tup"
   ]
  },
  {
   "cell_type": "markdown",
   "id": "834b73ec",
   "metadata": {},
   "source": [
    "De igual manera se puede acceder a cualquiera de los elementos de una tupla\n",
    "usando \"[]\", teniendo en cuenta que se comienza a contar de izquierda a derecha con el numero 0."
   ]
  },
  {
   "cell_type": "code",
   "execution_count": 5,
   "id": "2b6b9217",
   "metadata": {},
   "outputs": [
    {
     "data": {
      "text/plain": [
       "'L'"
      ]
     },
     "execution_count": 5,
     "metadata": {},
     "output_type": "execute_result"
    }
   ],
   "source": [
    "tup[2] # Deberia de devolver L"
   ]
  },
  {
   "cell_type": "markdown",
   "id": "0e6156c7",
   "metadata": {},
   "source": [
    "Aun cuando los objetos contenidos dentro de una tupla sean mutables, una vez \n",
    "guardaddos dentro de una tupla estos seran inmutables, es decir ya no podran \n",
    "ser modificados."
   ]
  },
  {
   "cell_type": "markdown",
   "id": "365b712f",
   "metadata": {},
   "source": [
    "Si un elemento de una tupla es mutable, este se podra editar accediendo a el \n",
    "mediante algun comando tipo \".append()\". Por ejemplo..\n"
   ]
  },
  {
   "cell_type": "code",
   "execution_count": 6,
   "id": "624e7980",
   "metadata": {},
   "outputs": [
    {
     "data": {
      "text/plain": [
       "('foo', [1, 2], False)"
      ]
     },
     "execution_count": 6,
     "metadata": {},
     "output_type": "execute_result"
    }
   ],
   "source": [
    "tuple = tuple([\"foo\", [1,2], False])\n",
    "tuple"
   ]
  },
  {
   "cell_type": "markdown",
   "id": "4cd1e65d",
   "metadata": {},
   "source": [
    "### Nota; Es importante que el elemento que se quiera editar dentro de la tupla sea mutable.\n",
    "\n",
    "En el ejemplo anterior se edito una lista usando la funcion append, la cual agrega un elemento al final de una lista.  "
   ]
  },
  {
   "cell_type": "markdown",
   "id": "a1818e8a",
   "metadata": {},
   "source": [
    "De igual manera se pueden concatenar tuplas usando el operador '+'"
   ]
  },
  {
   "cell_type": "code",
   "execution_count": 8,
   "id": "a964e7ef",
   "metadata": {},
   "outputs": [
    {
     "data": {
      "text/plain": [
       "(4, None, 'foo', 4, 8, 'UTA', 'TAL Robotics')"
      ]
     },
     "execution_count": 8,
     "metadata": {},
     "output_type": "execute_result"
    }
   ],
   "source": [
    "suma = (4, None, 'foo',) + (4, 8) + ('UTA', 'TAL Robotics')\n",
    "suma"
   ]
  },
  {
   "cell_type": "markdown",
   "id": "bbe1d2a6",
   "metadata": {},
   "source": [
    "Al igual que con las listas, es posible multliplicar una tupla por un entero, el efecto que tendra la operacion sera el de concatenar varias copias de la tupla original."
   ]
  },
  {
   "cell_type": "code",
   "execution_count": 10,
   "id": "2bed6847",
   "metadata": {},
   "outputs": [
    {
     "data": {
      "text/plain": [
       "(4,\n",
       " None,\n",
       " 'foo',\n",
       " 4,\n",
       " 8,\n",
       " 'UTA',\n",
       " 'TAL Robotics',\n",
       " 4,\n",
       " None,\n",
       " 'foo',\n",
       " 4,\n",
       " 8,\n",
       " 'UTA',\n",
       " 'TAL Robotics')"
      ]
     },
     "execution_count": 10,
     "metadata": {},
     "output_type": "execute_result"
    }
   ],
   "source": [
    "tupleMultiplication = suma * 2\n",
    "tupleMultiplication"
   ]
  },
  {
   "cell_type": "markdown",
   "id": "f8a7b0ea",
   "metadata": {},
   "source": [
    "### Nota; La tupla no se multiplico, solo el contenido de la misma"
   ]
  },
  {
   "cell_type": "markdown",
   "id": "ede78880",
   "metadata": {},
   "source": [
    "## Desempaquetado de tuplas\n",
    "\n",
    "Si nosotros intentamos asignar a una tupla una exprecion de variables python intentara desempaquetar el valor en el lado derecho del signo de igual."
   ]
  },
  {
   "cell_type": "code",
   "execution_count": 12,
   "id": "9c4da44b",
   "metadata": {},
   "outputs": [
    {
     "data": {
      "text/plain": [
       "5"
      ]
     },
     "execution_count": 12,
     "metadata": {},
     "output_type": "execute_result"
    }
   ],
   "source": [
    "Tuple = (4,5,6)\n",
    "x, y, z = Tuple\n",
    "y  # debera imprimir 5"
   ]
  },
  {
   "cell_type": "markdown",
   "id": "fee24991",
   "metadata": {},
   "source": [
    "Usando esta funcionalidad, nosotros podemos cambiar de manera sencilla el nombre de las variables, en python se haria de la siguiente manera.."
   ]
  },
  {
   "cell_type": "code",
   "execution_count": 14,
   "id": "c080d674",
   "metadata": {},
   "outputs": [
    {
     "name": "stdout",
     "output_type": "stream",
     "text": [
      "1\n",
      "2\n",
      "2\n",
      "1\n"
     ]
    }
   ],
   "source": [
    "a,b = 1,2\n",
    "print(a) # 1\n",
    "print(b) # 2\n",
    "\n",
    "b,a = a,b\n",
    "\n",
    "print(a) # 2\n",
    "print(b) # 1"
   ]
  },
  {
   "cell_type": "markdown",
   "id": "dfd10c22",
   "metadata": {},
   "source": [
    "Un uso comun del desempaquetado de variables es el de iterar sobre secuencias de tuplas o listas, por ejemplo..."
   ]
  },
  {
   "cell_type": "code",
   "execution_count": 1,
   "id": "79540e23",
   "metadata": {},
   "outputs": [
    {
     "name": "stdout",
     "output_type": "stream",
     "text": [
      "a=1, b=2, c=3\n",
      "a=4, b=5, c=6\n",
      "a=7, b=8, c=9\n"
     ]
    }
   ],
   "source": [
    "secuencia = [(1,2,3), (4,5,6), (7,8,9)]\n",
    "\n",
    "for a, b, c in secuencia:\n",
    "    print('a={0}, b={1}, c={2}'.format(a, b, c))"
   ]
  },
  {
   "cell_type": "markdown",
   "id": "fea1cc40",
   "metadata": {},
   "source": [
    "Otro uso comun es retornar multiples valores desde una funcion.\n",
    "\n",
    "Recientemente Python anadio herramientas de desempaquetado de tuplas mas avanzadas"
   ]
  },
  {
   "cell_type": "raw",
   "id": "0fafc553",
   "metadata": {},
   "source": []
  },
  {
   "cell_type": "raw",
   "id": "8aaa3100",
   "metadata": {},
   "source": []
  },
  {
   "cell_type": "raw",
   "id": "b93b4ce3",
   "metadata": {},
   "source": []
  },
  {
   "cell_type": "raw",
   "id": "1fee9360",
   "metadata": {},
   "source": []
  }
 ],
 "metadata": {
  "kernelspec": {
   "display_name": "Python 3 (ipykernel)",
   "language": "python",
   "name": "python3"
  },
  "language_info": {
   "codemirror_mode": {
    "name": "ipython",
    "version": 3
   },
   "file_extension": ".py",
   "mimetype": "text/x-python",
   "name": "python",
   "nbconvert_exporter": "python",
   "pygments_lexer": "ipython3",
   "version": "3.9.12"
  }
 },
 "nbformat": 4,
 "nbformat_minor": 5
}
