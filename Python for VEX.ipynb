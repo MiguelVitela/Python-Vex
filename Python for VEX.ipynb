{
 "cells": [
  {
   "cell_type": "markdown",
   "id": "9e5e5d0a",
   "metadata": {},
   "source": [
    "# 3.1: Data structures and sequences \n",
    "\n",
    "### TUPLE\n",
    "\n",
    "Una tupla es un objeto inmutable de python, la manera mas sencilla de declarar o crear una es separando valores utilizando comas, por ejemplo:"
   ]
  },
  {
   "cell_type": "code",
   "execution_count": 1,
   "id": "faf162fd",
   "metadata": {},
   "outputs": [
    {
     "data": {
      "text/plain": [
       "(1, 2, 3)"
      ]
     },
     "execution_count": 1,
     "metadata": {},
     "output_type": "execute_result"
    }
   ],
   "source": [
    "tupla = 1,2,3\n",
    "tupla"
   ]
  },
  {
   "cell_type": "markdown",
   "id": "d1b2379a",
   "metadata": {},
   "source": [
    "Cuando estamos definiendo tuplas en expresiones mas complicadas será necesario abrir y cerrar paréntesis, como por ejemplo.. "
   ]
  },
  {
   "cell_type": "code",
   "execution_count": 2,
   "id": "38d590a6",
   "metadata": {},
   "outputs": [
    {
     "data": {
      "text/plain": [
       "((4, 5, 6), (7, 8))"
      ]
     },
     "execution_count": 2,
     "metadata": {},
     "output_type": "execute_result"
    }
   ],
   "source": [
    "nestedTuple = (4,5,6), (7,8)\n",
    "nestedTuple"
   ]
  },
  {
   "cell_type": "markdown",
   "id": "053f0cd7",
   "metadata": {},
   "source": [
    "Se puede convertir cualquier sequencia o iterador a una tupla usando la funcion \"tuple\""
   ]
  },
  {
   "cell_type": "code",
   "execution_count": 3,
   "id": "54c7583a",
   "metadata": {},
   "outputs": [
    {
     "data": {
      "text/plain": [
       "(1, 2, 3)"
      ]
     },
     "execution_count": 3,
     "metadata": {},
     "output_type": "execute_result"
    }
   ],
   "source": [
    "tuple([1,2,3])"
   ]
  },
  {
   "cell_type": "code",
   "execution_count": 4,
   "id": "7ef26b54",
   "metadata": {},
   "outputs": [
    {
     "data": {
      "text/plain": [
       "('T', 'A', 'L', 'R', 'O', 'B', 'O', 'T', 'I', 'C', 'S')"
      ]
     },
     "execution_count": 4,
     "metadata": {},
     "output_type": "execute_result"
    }
   ],
   "source": [
    "tup = tuple(\"TALROBOTICS\")\n",
    "tup"
   ]
  },
  {
   "cell_type": "markdown",
   "id": "834b73ec",
   "metadata": {},
   "source": [
    "De igual manera se puede acceder a cualquiera de los elementos de una tupla\n",
    "usando \"[]\", teniendo en cuenta que se comienza a contar de izquierda a derecha con el numero 0."
   ]
  },
  {
   "cell_type": "code",
   "execution_count": 5,
   "id": "2b6b9217",
   "metadata": {},
   "outputs": [
    {
     "data": {
      "text/plain": [
       "'L'"
      ]
     },
     "execution_count": 5,
     "metadata": {},
     "output_type": "execute_result"
    }
   ],
   "source": [
    "tup[2] # Deberia de devolver L"
   ]
  },
  {
   "cell_type": "markdown",
   "id": "0e6156c7",
   "metadata": {},
   "source": [
    "Aun cuando los objetos contenidos dentro de una tupla sean mutables, una vez \n",
    "guardaddos dentro de una tupla estos seran inmutables, es decir ya no podran \n",
    "ser modificados."
   ]
  },
  {
   "cell_type": "markdown",
   "id": "365b712f",
   "metadata": {},
   "source": [
    "Si un elemento de una tupla es mutable, este se podra editar accediendo a el \n",
    "mediante algun comando tipo \".append()\". Por ejemplo..\n"
   ]
  },
  {
   "cell_type": "code",
   "execution_count": 6,
   "id": "624e7980",
   "metadata": {},
   "outputs": [
    {
     "data": {
      "text/plain": [
       "('foo', [1, 2], False)"
      ]
     },
     "execution_count": 6,
     "metadata": {},
     "output_type": "execute_result"
    }
   ],
   "source": [
    "tuple = tuple([\"foo\", [1,2], False])\n",
    "tuple"
   ]
  },
  {
   "cell_type": "markdown",
   "id": "4cd1e65d",
   "metadata": {},
   "source": [
    "### Nota; Es importante que el elemento que se quiera editar dentro de la tupla sea mutable.\n",
    "\n",
    "En el ejemplo anterior se edito una lista usando la funcion append, la cual agrega un elemento al final de una lista.  "
   ]
  },
  {
   "cell_type": "markdown",
   "id": "a1818e8a",
   "metadata": {},
   "source": [
    "De igual manera se pueden concatenar tuplas usando el operador '+'"
   ]
  },
  {
   "cell_type": "code",
   "execution_count": 8,
   "id": "a964e7ef",
   "metadata": {},
   "outputs": [
    {
     "data": {
      "text/plain": [
       "(4, None, 'foo', 4, 8, 'UTA', 'TAL Robotics')"
      ]
     },
     "execution_count": 8,
     "metadata": {},
     "output_type": "execute_result"
    }
   ],
   "source": [
    "suma = (4, None, 'foo',) + (4, 8) + ('UTA', 'TAL Robotics')\n",
    "suma"
   ]
  },
  {
   "cell_type": "markdown",
   "id": "bbe1d2a6",
   "metadata": {},
   "source": [
    "Al igual que con las listas, es posible multliplicar una tupla por un entero, el efecto que tendra la operacion sera el de concatenar varias copias de la tupla original."
   ]
  },
  {
   "cell_type": "code",
   "execution_count": 10,
   "id": "2bed6847",
   "metadata": {},
   "outputs": [
    {
     "data": {
      "text/plain": [
       "(4,\n",
       " None,\n",
       " 'foo',\n",
       " 4,\n",
       " 8,\n",
       " 'UTA',\n",
       " 'TAL Robotics',\n",
       " 4,\n",
       " None,\n",
       " 'foo',\n",
       " 4,\n",
       " 8,\n",
       " 'UTA',\n",
       " 'TAL Robotics')"
      ]
     },
     "execution_count": 10,
     "metadata": {},
     "output_type": "execute_result"
    }
   ],
   "source": [
    "tupleMultiplication = suma * 2\n",
    "tupleMultiplication"
   ]
  },
  {
   "cell_type": "markdown",
   "id": "f8a7b0ea",
   "metadata": {},
   "source": [
    "### Nota; La tupla no se multiplico, solo el contenido de la misma"
   ]
  },
  {
   "cell_type": "markdown",
   "id": "ede78880",
   "metadata": {},
   "source": [
    "## Desempaquetado de tuplas\n",
    "\n",
    "Si nosotros intentamos asignar a una tupla una exprecion de variables python intentara desempaquetar el valor en el lado derecho del signo de igual."
   ]
  },
  {
   "cell_type": "code",
   "execution_count": 12,
   "id": "9c4da44b",
   "metadata": {},
   "outputs": [
    {
     "data": {
      "text/plain": [
       "5"
      ]
     },
     "execution_count": 12,
     "metadata": {},
     "output_type": "execute_result"
    }
   ],
   "source": [
    "Tuple = (4,5,6)\n",
    "x, y, z = Tuple\n",
    "y  # debera imprimir 5"
   ]
  },
  {
   "cell_type": "markdown",
   "id": "fee24991",
   "metadata": {},
   "source": [
    "Usando esta funcionalidad, nosotros podemos cambiar de manera sencilla el nombre de las variables, en python se haria de la siguiente manera.."
   ]
  },
  {
   "cell_type": "code",
   "execution_count": 14,
   "id": "c080d674",
   "metadata": {},
   "outputs": [
    {
     "name": "stdout",
     "output_type": "stream",
     "text": [
      "1\n",
      "2\n",
      "2\n",
      "1\n"
     ]
    }
   ],
   "source": [
    "a,b = 1,2\n",
    "print(a) # 1\n",
    "print(b) # 2\n",
    "\n",
    "b,a = a,b\n",
    "\n",
    "print(a) # 2\n",
    "print(b) # 1"
   ]
  },
  {
   "cell_type": "markdown",
   "id": "dfd10c22",
   "metadata": {},
   "source": [
    "Un uso comun del desempaquetado de variables es el de iterar sobre secuencias de tuplas o listas, por ejemplo..."
   ]
  },
  {
   "cell_type": "code",
   "execution_count": 1,
   "id": "79540e23",
   "metadata": {},
   "outputs": [
    {
     "name": "stdout",
     "output_type": "stream",
     "text": [
      "a=1, b=2, c=3\n",
      "a=4, b=5, c=6\n",
      "a=7, b=8, c=9\n"
     ]
    }
   ],
   "source": [
    "secuencia = [(1,2,3), (4,5,6), (7,8,9)]\n",
    "\n",
    "for a, b, c in secuencia:\n",
    "    print('a={0}, b={1}, c={2}'.format(a, b, c))"
   ]
  },
  {
   "cell_type": "markdown",
   "id": "3a7f7b57",
   "metadata": {},
   "source": [
    "Otro uso comun es retornar multiples valores desde una funcion.\n",
    "\n",
    "Recientemente Python anadio herramientas de desempaquetado de tuplas mas avanzadas para ayudar en situaciones en las que queremos arrancar pocos elementos del inicio de una tupla. Para ello se utiliza la sintaxis **rest**, la cual es usada en funciones para capturar arbitrariamente una larga lista de argumentos posicionales."
   ]
  },
  {
   "cell_type": "code",
   "execution_count": 3,
   "id": "301aa981",
   "metadata": {},
   "outputs": [
    {
     "name": "stdout",
     "output_type": "stream",
     "text": [
      "1 2\n"
     ]
    },
    {
     "data": {
      "text/plain": [
       "[3, 4, 5]"
      ]
     },
     "execution_count": 3,
     "metadata": {},
     "output_type": "execute_result"
    }
   ],
   "source": [
    "val = 1, 2, 3, 4, 5\n",
    "\n",
    "a, b, *rest =  val\n",
    "\n",
    "print(a, b)\n",
    "\n",
    "rest"
   ]
  },
  {
   "cell_type": "markdown",
   "id": "872d16de",
   "metadata": {},
   "source": [
    "Cuando se trabaja con tuplas en ocaciones el resto es algo que queremos descartar el nombre \"rest\" no es nada en especial, solo un nombre dado a una variable que va a almacenar el resto de una tupla, en python los programadores utilizan el tambien guion bajo (_) para las variables no deseadas como se puede observar a continuacion..."
   ]
  },
  {
   "cell_type": "code",
   "execution_count": 6,
   "id": "d1f18aee",
   "metadata": {},
   "outputs": [
    {
     "name": "stdout",
     "output_type": "stream",
     "text": [
      "1 2\n"
     ]
    },
    {
     "data": {
      "text/plain": [
       "[3, 4, 5]"
      ]
     },
     "execution_count": 6,
     "metadata": {},
     "output_type": "execute_result"
    }
   ],
   "source": [
    "a, b, *_ = val\n",
    "\n",
    "print(a, b)\n",
    "\n",
    "_ # Tambien muestra el resto de una tupla."
   ]
  },
  {
   "cell_type": "markdown",
   "id": "81b81413",
   "metadata": {},
   "source": [
    "### Metodos de tuplas"
   ]
  },
  {
   "cell_type": "markdown",
   "id": "335ff7d2",
   "metadata": {},
   "source": [
    "Debido a que una tupla es un objeto inmutable, es decir no se puede editar, existen una cantidad limitada de metodos que se pueden usar, sin embargo un metodo de mucha utilidad tambien encontrado en las listas es \"count\", el cual muestra el numero de veces que se repite un valor dentro de la tupla o lista."
   ]
  },
  {
   "cell_type": "code",
   "execution_count": 8,
   "id": "4133969d",
   "metadata": {},
   "outputs": [
    {
     "data": {
      "text/plain": [
       "4"
      ]
     },
     "execution_count": 8,
     "metadata": {},
     "output_type": "execute_result"
    }
   ],
   "source": [
    "Tup = (1, 2, 3, 4, 3, 5, 3, 7, 3)\n",
    "Tup.count(3)"
   ]
  },
  {
   "cell_type": "markdown",
   "id": "4e32cd28",
   "metadata": {},
   "source": [
    "# Listas"
   ]
  },
  {
   "cell_type": "markdown",
   "id": "43a1a0b6",
   "metadata": {},
   "source": [
    "A diferencia de las tuplas, las listas son objetos mutables es decir, pueden ser modificadas. Estas son definidas usando \"[]\" o usando la funcion \"list\" como se puede observar a continuacion:"
   ]
  },
  {
   "cell_type": "code",
   "execution_count": 3,
   "id": "92fb4ee3",
   "metadata": {},
   "outputs": [
    {
     "name": "stdout",
     "output_type": "stream",
     "text": [
      "lista\n"
     ]
    },
    {
     "data": {
      "text/plain": [
       "['Hola', 'TAL', 'Uta']"
      ]
     },
     "execution_count": 3,
     "metadata": {},
     "output_type": "execute_result"
    }
   ],
   "source": [
    "lista = [2, 3, 4, None]\n",
    "print(\"lista\")\n",
    "\n",
    "tupla = ('Hola', 'TAL', 'Uta')\n",
    "lista2 = list(tupla)\n",
    "lista2"
   ]
  },
  {
   "cell_type": "markdown",
   "id": "00968c7f",
   "metadata": {},
   "source": [
    "De igual manera, se pueden editar elementos de la lista como se muestra a continuación:\n"
   ]
  },
  {
   "cell_type": "code",
   "execution_count": 5,
   "id": "fe2692aa",
   "metadata": {},
   "outputs": [
    {
     "data": {
      "text/plain": [
       "['Hola', 'TAL', 'Cruz Azul']"
      ]
     },
     "execution_count": 5,
     "metadata": {},
     "output_type": "execute_result"
    }
   ],
   "source": [
    "lista2[2] = \"Cruz Azul\" #ahora el tercer elemento de la lista será Cruz Azul\n",
    "lista2"
   ]
  },
  {
   "cell_type": "markdown",
   "id": "aa69dfe8",
   "metadata": {},
   "source": [
    "La función list es usada frecuentemente en el análisis de daatos como una manera de materializar un iterador o generador de expresiones:"
   ]
  },
  {
   "cell_type": "code",
   "execution_count": 13,
   "id": "88b8726a",
   "metadata": {},
   "outputs": [
    {
     "name": "stdout",
     "output_type": "stream",
     "text": [
      "range(0, 10)\n"
     ]
    },
    {
     "data": {
      "text/plain": [
       "[0, 1, 2, 3, 4, 5, 6, 7, 8, 9]"
      ]
     },
     "execution_count": 13,
     "metadata": {},
     "output_type": "execute_result"
    }
   ],
   "source": [
    "random = range(10)\n",
    "print(random)\n",
    "\n",
    "#Ahora convertimos dichos valores a una lista\n",
    "\n",
    "lista = list(random)\n",
    "lista"
   ]
  },
  {
   "cell_type": "markdown",
   "id": "9b74c559",
   "metadata": {},
   "source": [
    "## Añadir y eliminar elemetos\n",
    "\n",
    "Los elementos pueden ser añadidos al final de una lista con el método \"append\".\n",
    "Dicho métod solo nos permite añadir 1 elemento más al final de la lista."
   ]
  },
  {
   "cell_type": "code",
   "execution_count": 15,
   "id": "531d3d3e",
   "metadata": {},
   "outputs": [
    {
     "data": {
      "text/plain": [
       "[0, 1, 2, 3, 4, 5, 6, 7, 8, 9, 234]"
      ]
     },
     "execution_count": 15,
     "metadata": {},
     "output_type": "execute_result"
    }
   ],
   "source": [
    "#Añadiremos más numeros a la lista random creada anteriormente\n",
    "\n",
    "lista.append(234)\n",
    "lista"
   ]
  },
  {
   "cell_type": "markdown",
   "id": "0702a6ae",
   "metadata": {},
   "source": [
    "S i nosotros queremos añadir un elemento en una posición específica de una lista necesitaremos utiizar el método \"insert\", al cual se le pasa como argumentos la pocición y el valor a añadir."
   ]
  },
  {
   "cell_type": "code",
   "execution_count": 16,
   "id": "a3f516d6",
   "metadata": {},
   "outputs": [
    {
     "data": {
      "text/plain": [
       "[0, 1, 'Hola me llamo Miguel', 2, 3, 4, 5, 6, 7, 8, 9, 234]"
      ]
     },
     "execution_count": 16,
     "metadata": {},
     "output_type": "execute_result"
    }
   ],
   "source": [
    "lista.insert(2, \"Hola me llamo Miguel\")\n",
    "lista"
   ]
  },
  {
   "cell_type": "markdown",
   "id": "d1c671e7",
   "metadata": {},
   "source": [
    "### Nota: Utilizar el metodo insert es computacionalmente costoso, por lo que si se quiere insertar elementos al inicio o al final de una lista unas alternativas m´pas eficientes son las colas o colecciones."
   ]
  },
  {
   "cell_type": "markdown",
   "id": "9dfc0fdd",
   "metadata": {},
   "source": [
    "La operación inversa a insert es pop, el cual remueve y retorna un elemento a un indice en particular."
   ]
  },
  {
   "cell_type": "code",
   "execution_count": 19,
   "id": "f1416e98",
   "metadata": {},
   "outputs": [
    {
     "data": {
      "text/plain": [
       "[0, 1, 'Hola me llamo Miguel', 5, 6, 7, 8, 9, 234]"
      ]
     },
     "execution_count": 19,
     "metadata": {},
     "output_type": "execute_result"
    }
   ],
   "source": [
    "lista.pop(3) # 3\n",
    "lista"
   ]
  },
  {
   "cell_type": "markdown",
   "id": "38f16733",
   "metadata": {},
   "source": [
    "Tambien podemos eliminar valores de una lista utilizando el metodo remove. Si existen 2 elementos identicos en la lista este metodo eliminara al primero de izquierda a derecha."
   ]
  },
  {
   "cell_type": "code",
   "execution_count": 23,
   "id": "af5fe22f",
   "metadata": {},
   "outputs": [
    {
     "name": "stdout",
     "output_type": "stream",
     "text": [
      "['Miguel', 2, 3, 4, 5, 'Miguel']\n"
     ]
    },
    {
     "data": {
      "text/plain": [
       "[2, 3, 4, 5, 'Miguel']"
      ]
     },
     "execution_count": 23,
     "metadata": {},
     "output_type": "execute_result"
    }
   ],
   "source": [
    "list2 = ['Miguel',2,3,4,5]\n",
    "list2.append('Miguel')\n",
    "print(list2)\n",
    "\n",
    "list2.remove('Miguel')\n",
    "list2"
   ]
  },
  {
   "cell_type": "markdown",
   "id": "3406804b",
   "metadata": {},
   "source": [
    "Si el rendimiento no es un problema haciendo uso de los metodos append y remove se pueden utilizar las listas como estructuras de datos."
   ]
  },
  {
   "cell_type": "markdown",
   "id": "1ec6c740",
   "metadata": {},
   "source": [
    "También podemos revisar si un determinado dato se encuentra dentro de una lista. por ejemplo"
   ]
  },
  {
   "cell_type": "code",
   "execution_count": 25,
   "id": "d6b4e2d7",
   "metadata": {},
   "outputs": [
    {
     "data": {
      "text/plain": [
       "False"
      ]
     },
     "execution_count": 25,
     "metadata": {},
     "output_type": "execute_result"
    }
   ],
   "source": [
    "\"Miguel\" in list2 #True\n",
    "\n",
    "# o también en forma negativa:\n",
    "\n",
    "\"Miguel\" not in list2 #False"
   ]
  },
  {
   "cell_type": "markdown",
   "id": "2a079dc0",
   "metadata": {},
   "source": [
    "### Nota: Buscar si algún valor se encuentra dentro de una lista es considerablemente más lento que buscar un valor en un diccionario o set."
   ]
  },
  {
   "cell_type": "markdown",
   "id": "a8a1a8cc",
   "metadata": {},
   "source": [
    "# Concatenar o combinar listas"
   ]
  },
  {
   "cell_type": "markdown",
   "id": "155e9eb9",
   "metadata": {},
   "source": [
    "Al igual que con las tuplas, añadir un signo de + es suficiente para concatenar 2 o más listas"
   ]
  },
  {
   "cell_type": "code",
   "execution_count": 27,
   "id": "35ad4e25",
   "metadata": {},
   "outputs": [
    {
     "data": {
      "text/plain": [
       "[1, 2, 3, 4, 5, 6, 7, 8, 9, 10]"
      ]
     },
     "execution_count": 27,
     "metadata": {},
     "output_type": "execute_result"
    }
   ],
   "source": [
    "A = [1,2,3,4,5]\n",
    "B = [6,7,8,9,10]\n",
    "C = A+B\n",
    "C"
   ]
  },
  {
   "cell_type": "markdown",
   "id": "50008b4e",
   "metadata": {},
   "source": [
    "Si ya tenemos una lista definida se pueden añadir multiples elementos usando el método extend."
   ]
  },
  {
   "cell_type": "code",
   "execution_count": 28,
   "id": "c54371c3",
   "metadata": {},
   "outputs": [
    {
     "data": {
      "text/plain": [
       "[1, 2, 3, 12, 'Miguel', 'TAL', (23, 45)]"
      ]
     },
     "execution_count": 28,
     "metadata": {},
     "output_type": "execute_result"
    }
   ],
   "source": [
    "LIST = [1,2,3]\n",
    "LIST.extend([12, \"Miguel\", \"TAL\",(23,45)])\n",
    "LIST"
   ]
  },
  {
   "cell_type": "markdown",
   "id": "26961cb4",
   "metadata": {},
   "source": [
    "### Nota: La concatenación de una lista por suma es una operación más cara debido a que una nueva lista debe ser creada y copiada sobre la lista anterior. Usar extend para añadir elementos a una lista existente es preferible."
   ]
  },
  {
   "cell_type": "markdown",
   "id": "ac9b0af0",
   "metadata": {},
   "source": [
    "# Clasificación"
   ]
  },
  {
   "cell_type": "markdown",
   "id": "ddda94c2",
   "metadata": {},
   "source": [
    "Se puede clasificar una lista sin necesidad de crear un objeto nuevo utilizando la función sort"
   ]
  },
  {
   "cell_type": "code",
   "execution_count": 31,
   "id": "92e13b85",
   "metadata": {},
   "outputs": [
    {
     "data": {
      "text/plain": [
       "[1, 4, 6, 12, 32, 45]"
      ]
     },
     "execution_count": 31,
     "metadata": {},
     "output_type": "execute_result"
    }
   ],
   "source": [
    "z = [1,45,12,6,4,32]\n",
    "z.sort()\n",
    "z"
   ]
  },
  {
   "cell_type": "markdown",
   "id": "49e16780",
   "metadata": {},
   "source": [
    "La función sort tiene algunas opciones útiles como la habilidad de pasar una llave secundaria, la cuál es una función que ayudará a clasificar el contenido de una lista según un criterio dado a la función sort, por ejemplo a continuación se clasificará una lista segun lo largo de los caracteres de cada uno de los componentes de la lista."
   ]
  },
  {
   "cell_type": "code",
   "execution_count": 33,
   "id": "091ab7a2",
   "metadata": {},
   "outputs": [
    {
     "data": {
      "text/plain": [
       "['CR7', 'Lalo', 'Messi', 'Paquito', 'Lewandowski']"
      ]
     },
     "execution_count": 33,
     "metadata": {},
     "output_type": "execute_result"
    }
   ],
   "source": [
    "b = [\"Messi\", \"CR7\", \"Lewandowski\", \"Lalo\", \"Paquito\"]\n",
    "b.sort(key=len)\n",
    "b"
   ]
  },
  {
   "cell_type": "markdown",
   "id": "35d0cccb",
   "metadata": {},
   "source": [
    "# Búsqueda binaria y mantenimiento de una lista clasificada\n",
    "\n",
    "El módulo bisect implementa una búsqueda binaria y la inserción en una lista ordenada.\n",
    "\n",
    "bisect.bisect encuentra la locación donde un elemento debe de ser insertado para manetener la lista ordenada, mientras tanto bisect.insort inserta ese elemento en la locación."
   ]
  },
  {
   "cell_type": "code",
   "execution_count": 3,
   "id": "792c93de",
   "metadata": {},
   "outputs": [
    {
     "name": "stdout",
     "output_type": "stream",
     "text": [
      "7\n",
      "6\n"
     ]
    },
    {
     "data": {
      "text/plain": [
       "[1, 2, 2, 2, 3, 4, 6, 7]"
      ]
     },
     "execution_count": 3,
     "metadata": {},
     "output_type": "execute_result"
    }
   ],
   "source": [
    "import bisect\n",
    "\n",
    "c = [1,2,2,2,3,4,7]\n",
    "\n",
    "print(bisect.bisect(c, 15)) #7\n",
    "\n",
    "print(bisect.bisect(c, 5)) #6\n",
    "\n",
    "bisect.insort(c, 6) #Añadira 6 a la lista en un lugar correcto \n",
    "\n",
    "c"
   ]
  },
  {
   "cell_type": "markdown",
   "id": "e81ebc77",
   "metadata": {},
   "source": [
    "### Nota: Las funciones del módulo bisect no revisan si la lista se encuentra ordenada ya que hacerlo sería computacionalmente caro, debido a estousar dichas funciones en una lista desordenada no marcará error pero podría conducir a resultados no deseados."
   ]
  },
  {
   "cell_type": "markdown",
   "id": "0b6ea978",
   "metadata": {},
   "source": [
    "# Rebanado\n",
    "\n",
    "Nosotros podemos escoger secciones de varios tipos de secuencia utilizando la notación de rebanado, la cuál en su forma más básica consiste en start:stop utilizando el operador de indexado [ ]."
   ]
  },
  {
   "cell_type": "code",
   "execution_count": 5,
   "id": "37965a84",
   "metadata": {},
   "outputs": [
    {
     "data": {
      "text/plain": [
       "[2, 3, 7, 5, 6]"
      ]
     },
     "execution_count": 5,
     "metadata": {},
     "output_type": "execute_result"
    }
   ],
   "source": [
    "seq=[7,2,3,7,5,6,0,1]\n",
    "\n",
    "seq[1:6] # 2,3,7,5,6"
   ]
  },
  {
   "cell_type": "markdown",
   "id": "fdbcb90f",
   "metadata": {},
   "source": [
    "Las rebanadas también pueden ser asignadas a una secuencia:\n"
   ]
  },
  {
   "cell_type": "code",
   "execution_count": 6,
   "id": "29b31a89",
   "metadata": {},
   "outputs": [
    {
     "data": {
      "text/plain": [
       "[7, 2, 3, 10, 11, 5, 6, 0, 1]"
      ]
     },
     "execution_count": 6,
     "metadata": {},
     "output_type": "execute_result"
    }
   ],
   "source": [
    "seq[3:4] = [10, 11]\n",
    "\n",
    "seq"
   ]
  },
  {
   "cell_type": "markdown",
   "id": "fcb4e9e0",
   "metadata": {},
   "source": [
    "Cuando el elemento inicial del índice es incluido el stop o final del índice no lo está, por eso el número de elementos en el resultado es stop - start.\n",
    "\n",
    "Aún cuando el start o stop sean omitidos en cuyo caso por defecto al inicio de la secuencia y el final de la secuencia, respectivamente:"
   ]
  },
  {
   "cell_type": "code",
   "execution_count": 9,
   "id": "9e407a7c",
   "metadata": {},
   "outputs": [
    {
     "name": "stdout",
     "output_type": "stream",
     "text": [
      "[1, 2, 3, 4, 5]\n",
      "[3, 4, 5, 6, 7, 8]\n"
     ]
    }
   ],
   "source": [
    "secuencia = [1,2,3,4,5,6,7,8] \n",
    "print(secuencia[:5]) # del 1 al 5\n",
    "print(secuencia[2:]) # del 3 al 8"
   ]
  },
  {
   "cell_type": "markdown",
   "id": "d06f641a",
   "metadata": {},
   "source": [
    "Un índice negativo hará que la secuencia inicie por la izquierda"
   ]
  },
  {
   "cell_type": "code",
   "execution_count": 14,
   "id": "6814e705",
   "metadata": {},
   "outputs": [
    {
     "name": "stdout",
     "output_type": "stream",
     "text": [
      "[0, 1]\n"
     ]
    },
    {
     "data": {
      "text/plain": [
       "[6, 3, 5, 6]"
      ]
     },
     "execution_count": 14,
     "metadata": {},
     "output_type": "execute_result"
    }
   ],
   "source": [
    "SEQ = [7, 2, 3, 6, 3, 5, 6, 0, 1]\n",
    "print(SEQ[-2:])\n",
    "SEQ[-6:-2] # de 6 a 2"
   ]
  },
  {
   "cell_type": "markdown",
   "id": "bd8b3657",
   "metadata": {},
   "source": [
    "También se puede utilizar un segundo colon :: para contar de manera incremental una lista y extraer aquellos atributos, por ejemplo en el siguiente código se cuenta desde el inicio de 4 en 4 y se extraen dichos valores."
   ]
  },
  {
   "cell_type": "code",
   "execution_count": 16,
   "id": "517c8be7",
   "metadata": {},
   "outputs": [
    {
     "data": {
      "text/plain": [
       "[1, 5, 8]"
      ]
     },
     "execution_count": 16,
     "metadata": {},
     "output_type": "execute_result"
    }
   ],
   "source": [
    "s = [1,2,3,4,5,6,6,7,8,9,10]\n",
    "s[::4]"
   ]
  },
  {
   "cell_type": "markdown",
   "id": "4c31e267",
   "metadata": {},
   "source": [
    "Un uso muy común para lo anteriormente mencionado es pasar un -1 para hacer el efecto de revertir una tupla o lista."
   ]
  },
  {
   "cell_type": "code",
   "execution_count": 17,
   "id": "a6345086",
   "metadata": {},
   "outputs": [
    {
     "data": {
      "text/plain": [
       "[10, 9, 8, 7, 6, 6, 5, 4, 3, 2, 1]"
      ]
     },
     "execution_count": 17,
     "metadata": {},
     "output_type": "execute_result"
    }
   ],
   "source": [
    "s[::-1]"
   ]
  },
  {
   "cell_type": "markdown",
   "id": "4b73288f",
   "metadata": {},
   "source": [
    "A continuación se expone un ejemplo de como funciona el slicing de listas en python."
   ]
  },
  {
   "attachments": {
    "image.png": {
     "image/png": "[encoded data removed]"
    }
   },
   "cell_type": "markdown",
   "id": "521281ad",
   "metadata": {},
   "source": [
    "![image.png](attachment:image.png)"
   ]
  },
  {
   "cell_type": "markdown",
   "id": "64d832b0",
   "metadata": {},
   "source": [
    "# Funciones de secuencia incorporadas"
   ]
  },
  {
   "cell_type": "markdown",
   "id": "8053d30f",
   "metadata": {},
   "source": [
    "Python tiene una gran cantidad de útiles funciones de secuencias, por ejemplo:\n",
    "\n",
    "### enumerate\n",
    "\n",
    "Es comun que cuando vamos iterando sobre una secuencia queramos seguir la pista del índice del item actual, una manera de hacerlo es la siguiente:"
   ]
  },
  {
   "cell_type": "code",
   "execution_count": null,
   "id": "953b5a94",
   "metadata": {},
   "outputs": [],
   "source": [
    "i = 0\n",
    "for valor in coleccion:\n",
    "    # se hace algo con dicho valor \n",
    "    i += 1"
   ]
  },
  {
   "cell_type": "markdown",
   "id": "36c4acca",
   "metadata": {},
   "source": [
    "Debido a que esto es muy comín python ya tiene una función incorporada *enumerate* la cual retorna una secuencia de tuplas (i, valor)."
   ]
  },
  {
   "cell_type": "code",
   "execution_count": null,
   "id": "77d57e65",
   "metadata": {},
   "outputs": [],
   "source": [
    "for i, valor in enumerate(coleccion):\n",
    "    #Hacer algo con el valor "
   ]
  },
  {
   "cell_type": "markdown",
   "id": "b3bf0f71",
   "metadata": {},
   "source": [
    "Cuando se está indexando data, un patrón muy util que utiliza la función enumerate es computar un diccionario mapeando los valores de una secuencia (que se asume es única) a sus locaciones in la secuencia. "
   ]
  },
  {
   "cell_type": "code",
   "execution_count": 21,
   "id": "033c2f0f",
   "metadata": {},
   "outputs": [
    {
     "data": {
      "text/plain": [
       "{'LeBron': 0, 'Curry': 1, 'AD': 2, 'Paul': 3}"
      ]
     },
     "execution_count": 21,
     "metadata": {},
     "output_type": "execute_result"
    }
   ],
   "source": [
    "lista = [\"LeBron\", \"Curry\", \"AD\", \"Paul\"]\n",
    "mapeo = {} # Se crea un diccionario vacio\n",
    "\n",
    "for i, valor in enumerate(lista):\n",
    "    mapeo[valor] = i\n",
    "    \n",
    "mapeo"
   ]
  },
  {
   "cell_type": "markdown",
   "id": "678d9145",
   "metadata": {},
   "source": [
    "### Función sorted \n",
    "\n",
    "Esta función retorna una lista ordenada apartir de los elementos de una secuencia dada."
   ]
  },
  {
   "cell_type": "code",
   "execution_count": 2,
   "id": "06521e6e",
   "metadata": {},
   "outputs": [
    {
     "data": {
      "text/plain": [
       "[8, 12, 25, 32, 45, 64, 98]"
      ]
     },
     "execution_count": 2,
     "metadata": {},
     "output_type": "execute_result"
    }
   ],
   "source": [
    "presorted = [25, 64, 98, 12, 8, 32, 45]\n",
    "\n",
    "sorted = sorted(presorted)\n",
    "\n",
    "sorted"
   ]
  },
  {
   "cell_type": "markdown",
   "id": "17258dd6",
   "metadata": {},
   "source": [
    "De igual manera esta función se puede utilizar con strings y ordena alfabéticamente."
   ]
  },
  {
   "cell_type": "code",
   "execution_count": 2,
   "id": "0676b37b",
   "metadata": {},
   "outputs": [
    {
     "data": {
      "text/plain": [
       "['e', 'h', 'o', 'r', 's']"
      ]
     },
     "execution_count": 2,
     "metadata": {},
     "output_type": "execute_result"
    }
   ],
   "source": [
    "sorted('horse')"
   ]
  },
  {
   "cell_type": "markdown",
   "id": "48da1837",
   "metadata": {},
   "source": [
    "### Función zip\n",
    "\n",
    "Esta función empareja los elementos de un numero de listas, tuplas u otras sequencias para crear una lista compuesta de tuplas."
   ]
  },
  {
   "cell_type": "code",
   "execution_count": 7,
   "id": "ebbc0286",
   "metadata": {},
   "outputs": [
    {
     "data": {
      "text/plain": [
       "[('Messi', 'N1'), ('CR7', 'N2'), ('Neymar', 'N3')]"
      ]
     },
     "execution_count": 7,
     "metadata": {},
     "output_type": "execute_result"
    }
   ],
   "source": [
    "players = [\"Messi\", \"CR7\", \"Neymar\"]\n",
    "position = [\"N1\", \"N2\", \"N3\"]\n",
    "award = zip(players, position)\n",
    "\n",
    "# Ahora convertimos a lista el objeto anterior \n",
    "list(award)"
   ]
  },
  {
   "cell_type": "markdown",
   "id": "e4f76876",
   "metadata": {},
   "source": [
    "La función zip puede tomar de manera arbitrarea un número de secuencias,oelementos que produce está determinada por la secuencia más corta, por ejemplo:"
   ]
  },
  {
   "cell_type": "code",
   "execution_count": 11,
   "id": "71112587",
   "metadata": {},
   "outputs": [
    {
     "data": {
      "text/plain": [
       "[('Messi', 'N1', True), ('CR7', 'N2', False)]"
      ]
     },
     "execution_count": 11,
     "metadata": {},
     "output_type": "execute_result"
    }
   ],
   "source": [
    "Argentino = [True, False]\n",
    "nation = zip(players, position, Argentino)\n",
    "list(nation)"
   ]
  },
  {
   "cell_type": "markdown",
   "id": "26fbc6dd",
   "metadata": {},
   "source": [
    "Dado que en la secuencia más corta solo brindamos 2 elementos la lista final en lugar de contar con 3 tuplas como se tenía anterior mente, solo cuenta ahora con 2 tuplas.\n",
    "\n",
    "Un uso muy común de esta función es iterar sobre múltiples secuencias, posiblemente usando esta función en combinación con *enumerate* como se podrá observar a continuación."
   ]
  },
  {
   "cell_type": "code",
   "execution_count": 15,
   "id": "d0008cfb",
   "metadata": {},
   "outputs": [
    {
     "name": "stdout",
     "output_type": "stream",
     "text": [
      "0: Messi, N1\n",
      "1: CR7, N2\n",
      "2: Neymar, N3\n"
     ]
    }
   ],
   "source": [
    "for i, (a,b) in enumerate(zip(players, position)):\n",
    "    print('{0}: {1}, {2}'.format(i, a, b))"
   ]
  },
  {
   "cell_type": "markdown",
   "id": "12586e8d",
   "metadata": {},
   "source": [
    "Dada una secuencia comprimida, zip puede ser aplicada de una manera más útil para descomprimir la secuencia. Otra manera de verlo es convirtiendo una lista de filas en una lista de columnas. La sintaxis es la siguiente:"
   ]
  },
  {
   "cell_type": "code",
   "execution_count": 19,
   "id": "03cd7d89",
   "metadata": {},
   "outputs": [
    {
     "name": "stdout",
     "output_type": "stream",
     "text": [
      "('Miguel', 'Leonardo', 'Eduardo')\n"
     ]
    },
    {
     "data": {
      "text/plain": [
       "('Vitela', 'Murillo', 'Ramirez')"
      ]
     },
     "execution_count": 19,
     "metadata": {},
     "output_type": "execute_result"
    }
   ],
   "source": [
    "Integrantes = [('Miguel', 'Vitela'), ('Leonardo', 'Murillo'), ('Eduardo', 'Ramirez')]\n",
    "\n",
    "nombres, apellidos = zip(*Integrantes)\n",
    "\n",
    "print(nombres)\n",
    "apellidos"
   ]
  },
  {
   "cell_type": "markdown",
   "id": "ab789b93",
   "metadata": {},
   "source": [
    "### Reversed\n",
    "\n",
    "Esta función itera sobre los elementos de una secuencia en reversa (de derecha a izquierda). Es necesario destacar que esta función es un generador, es decir no crea la secuencia inversa hasta materializarla, por ejemplo con una lista ya creada o con un ciclo for."
   ]
  },
  {
   "cell_type": "code",
   "execution_count": 21,
   "id": "7f43f334",
   "metadata": {},
   "outputs": [
    {
     "data": {
      "text/plain": [
       "[9, 8, 7, 6, 5, 4, 3, 2, 1, 0]"
      ]
     },
     "execution_count": 21,
     "metadata": {},
     "output_type": "execute_result"
    }
   ],
   "source": [
    "list(reversed(range(10)))"
   ]
  },
  {
   "cell_type": "code",
   "execution_count": null,
   "id": "e3f0fbe3",
   "metadata": {},
   "outputs": [],
   "source": [
    " "
   ]
  }
 ],
 "metadata": {
  "kernelspec": {
   "display_name": "Python 3 (ipykernel)",
   "language": "python",
   "name": "python3"
  },
  "language_info": {
   "codemirror_mode": {
    "name": "ipython",
    "version": 3
   },
   "file_extension": ".py",
   "mimetype": "text/x-python",
   "name": "python",
   "nbconvert_exporter": "python",
   "pygments_lexer": "ipython3",
   "version": "3.9.12"
  }
 },
 "nbformat": 4,
 "nbformat_minor": 5
}
